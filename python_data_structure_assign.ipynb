{
  "nbformat": 4,
  "nbformat_minor": 0,
  "metadata": {
    "colab": {
      "provenance": []
    },
    "kernelspec": {
      "name": "python3",
      "display_name": "Python 3"
    },
    "language_info": {
      "name": "python"
    }
  },
  "cells": [
    {
      "cell_type": "markdown",
      "source": [],
      "metadata": {
        "id": "O3utYtO8y9rH"
      }
    },
    {
      "cell_type": "markdown",
      "source": [
        "QUESTIONS\n",
        "\n",
        "1. What are data structures, and why are they important?\n",
        "- It is a way of organising and storing data so that it can be accessed and manipulated.\n",
        "\n",
        "2. Explain the difference between mutable and immutable data types with examples.\n",
        "- Mutable data means the data can be changed after it is created. for eaxample list.\n",
        "Immutable data means the data cannot be changed after it is created. for eaxample string,tuple.\n",
        "\n",
        "3. What are the main differences between lists and tuples in Python?\n",
        "- Lists are mutable data type whereas tuples are immutable data type in python.\n",
        "\n",
        "4. Describe how dictionaries store data.\n",
        "- Elements are not stored in a specific order.\n",
        "Unique key-value pairs: Each key acts as a unique identifier for retrieving an associated value.\n",
        "Flexible data: Keys and values can be of various data types (strings, numbers, lists, and even other dictionaries).\n",
        "\n",
        "5. Why might you use a set instead of a list in Python?\n",
        "- We may use set instead of list when we want to store unique data and do perpform set oeration like union, intersection.\n",
        "\n",
        "6. What is a string in Python, and how is it different from a list?\n",
        "- A string is a sequence of characters to represent and manipulate textual data whereas list can store all the types of data types and are completely mutable.\n",
        "\n",
        "7. How do tuples ensure data integrity in Python?\n",
        "- A tuple in Python helps ensure data integrity due to its immutability, meaning its elements cannot be changed, added, or removed after creation.\n",
        "\n",
        "8. What is a hash table, and how does it relate to dictionaries in Python?\n",
        "- A hash table (also called a hash map) is a data structure that stores key-value pairs and allows fast lookups, insertions, and deletions using a hash function. dictionaries also have key-value pair.\n",
        "\n",
        "9. Can lists contain different data types in Python?\n",
        "- Yes, lists can contain different data types in python.\n",
        "\n",
        "10. Explain why strings are immutable in Python.\n",
        "- Strings in Python are immutable, meaning once a string is created, it cannot be modified. Any operation that seems to modify a string will instead create a new string.\n",
        "\n",
        "11. What advantages do dictionaries offer over lists for certain tasks?\n",
        "- Dictionaries provide efficient, fast access to data via keys, making them ideal for scenarios that require quick lookups, mappings, and key-value pairs. Lists are better suited for ordered collections or situations where indexing and duplicates are required.\n",
        "\n",
        "12. Describe a scenario where using a tuple would be preferable over a list.\n",
        "- Imagine we're developing a mapping or geolocation application where we need to store coordinates (latitude and longitude) for various locations. These coordinates should never change once they're set, as modifying the data could lead to inaccuracies in our application.\n",
        "\n",
        "13. How do sets handle duplicate values in Python?\n",
        "- sets do not allow repeatition or duplicate values. It only take once.\n",
        "\n",
        "14. How does the “in” keyword work differently for lists and dictionaries?\n",
        "- In a list, in checks if the value exists. In a dictionary, in checks if the key exists.\n",
        "\n",
        "15. Can you modify the elements of a tuple? Explain why or why not?\n",
        "- No, we cannot modify the elements of a tuple after it has been created. This is because tuples are immutable in Python, meaning that once a tuple is created, its contents cannot be changed, added to, or removed.\n",
        "\n",
        "16. What is a nested dictionary, and give an example of its use case?\n",
        "- A nested dictionary is a dictionary where the value of one or more keys is itself another dictionary. In other words, it is a dictionary within a dictionary.\n",
        "\n",
        "17. Describe the time complexity of accessing elements in a dictionary.\n",
        "- In Python, dictionaries are implemented using hash tables, which allow for efficient lookups. The time complexity of accessing elements in a dictionary depends on the operation being performed.\n",
        "\n",
        "18. In what situations are lists preferred over dictionaries?\n",
        "- Use lists when we're dealing with ordered collections that may need indexing, and where the values themselves are important (not necessarily associated with unique keys).\n",
        "\n",
        "19. Why are dictionaries considered unordered, and how does that affect data retrieval?\n",
        "- Dictionaries in Python are considered unordered because their primary functionality is based on hashing keys rather than maintaining a sequence.\n",
        "Data retrieval in dictionaries is fast (O(1) on average) but depends on the key, not the order of insertion.\n",
        "\n",
        "20. Explain the difference between a list and a dictionary in terms of data retrieval.\n",
        "- Lists are suited for ordered collections where you access elements by index or need to maintain duplicates. Their O(1) access time is great for indexing, but searching for a value is O(n). whereas Dictionaries are ideal for fast lookups by key, offering O(1) time complexity for both access and search. They do not maintain order (except in Python 3.7+), and you cannot have duplicate keys.\n",
        "\n"
      ],
      "metadata": {
        "id": "1FG4M9rGTgs9"
      }
    },
    {
      "cell_type": "markdown",
      "source": [],
      "metadata": {
        "id": "nttkltfrUCQL"
      }
    },
    {
      "cell_type": "markdown",
      "source": [],
      "metadata": {
        "id": "NQKiZKdHzFLx"
      }
    },
    {
      "cell_type": "code",
      "source": [
        "#1.Write a code to create a string with your name and print it\n",
        "\n",
        "str = \"priya\"\n",
        "print(\"my name is\", str)"
      ],
      "metadata": {
        "colab": {
          "base_uri": "https://localhost:8080/"
        },
        "id": "e57loxQ8zKgf",
        "outputId": "90f47aea-2da6-4046-e13b-6c28f9f1d68f"
      },
      "execution_count": null,
      "outputs": [
        {
          "output_type": "stream",
          "name": "stdout",
          "text": [
            "my name is priya\n"
          ]
        }
      ]
    },
    {
      "cell_type": "code",
      "source": [
        "#2. Write a code to find the length of the string \"Hello World\"\n",
        "\n",
        "a = \"Hello World\"\n",
        "len(a)"
      ],
      "metadata": {
        "colab": {
          "base_uri": "https://localhost:8080/"
        },
        "id": "9K9ZpfYEzKdF",
        "outputId": "daceaee6-5c96-4a6d-a553-540f82da088d"
      },
      "execution_count": null,
      "outputs": [
        {
          "output_type": "execute_result",
          "data": {
            "text/plain": [
              "11"
            ]
          },
          "metadata": {},
          "execution_count": 2
        }
      ]
    },
    {
      "cell_type": "code",
      "source": [
        "#3. Write a code to slice the first 3 characters from the string \"Python Programming\"\n",
        "\n",
        "str = \"Python Programming\"\n",
        "str[0:3]"
      ],
      "metadata": {
        "colab": {
          "base_uri": "https://localhost:8080/",
          "height": 36
        },
        "id": "38RcD28U1reN",
        "outputId": "fb002ad7-c31b-49c7-89fb-889c6567d39c"
      },
      "execution_count": null,
      "outputs": [
        {
          "output_type": "execute_result",
          "data": {
            "text/plain": [
              "'Pyt'"
            ],
            "application/vnd.google.colaboratory.intrinsic+json": {
              "type": "string"
            }
          },
          "metadata": {},
          "execution_count": 5
        }
      ]
    },
    {
      "cell_type": "code",
      "source": [
        "#4. Write a code to convert the string \"hello\" to uppercase\n",
        "\n",
        "str = \"hello\"\n",
        "str.upper()"
      ],
      "metadata": {
        "colab": {
          "base_uri": "https://localhost:8080/",
          "height": 36
        },
        "id": "q5WjRzke1oE0",
        "outputId": "7953857c-15ee-4b8e-ddd3-e8f590ccd396"
      },
      "execution_count": null,
      "outputs": [
        {
          "output_type": "execute_result",
          "data": {
            "text/plain": [
              "'HELLO'"
            ],
            "application/vnd.google.colaboratory.intrinsic+json": {
              "type": "string"
            }
          },
          "metadata": {},
          "execution_count": 7
        }
      ]
    },
    {
      "cell_type": "code",
      "source": [
        "#5. Write a code to replace the word \"apple\" with \"orange\" in the string \"I like apple'.\n",
        "\n",
        "str = \"I like apple\"\n",
        "str.replace(\"apple\", \"orange\")"
      ],
      "metadata": {
        "colab": {
          "base_uri": "https://localhost:8080/",
          "height": 36
        },
        "id": "NRVtPTcX2JpX",
        "outputId": "ca81d29b-8117-4813-d6d3-d7ce47e51b8b"
      },
      "execution_count": null,
      "outputs": [
        {
          "output_type": "execute_result",
          "data": {
            "text/plain": [
              "'I like orange'"
            ],
            "application/vnd.google.colaboratory.intrinsic+json": {
              "type": "string"
            }
          },
          "metadata": {},
          "execution_count": 8
        }
      ]
    },
    {
      "cell_type": "code",
      "source": [
        "#6. Write a code to create a list with numbers 1 to 5 and print it.\n",
        "\n",
        "my_list = [1,2,3,4,5]\n",
        "my_list\n"
      ],
      "metadata": {
        "colab": {
          "base_uri": "https://localhost:8080/"
        },
        "id": "2KQd-ggO3Oku",
        "outputId": "1911ecfb-5862-43a6-ed99-dfc81db0d10f"
      },
      "execution_count": null,
      "outputs": [
        {
          "output_type": "execute_result",
          "data": {
            "text/plain": [
              "[1, 2, 3, 4, 5]"
            ]
          },
          "metadata": {},
          "execution_count": 9
        }
      ]
    },
    {
      "cell_type": "code",
      "source": [
        "#7. Write a code to append the number 10 to the list [1, 2, 3, 4].\n",
        "\n",
        "my_list = [1,2,3,4]\n",
        "my_list.append(10)\n",
        "print(my_list)"
      ],
      "metadata": {
        "id": "B_NQZLPn3OzZ",
        "colab": {
          "base_uri": "https://localhost:8080/"
        },
        "outputId": "8e3c8b47-4c60-424b-9796-114d16293332"
      },
      "execution_count": 14,
      "outputs": [
        {
          "output_type": "stream",
          "name": "stdout",
          "text": [
            "[1, 2, 3, 4, 10]\n"
          ]
        }
      ]
    },
    {
      "cell_type": "code",
      "source": [
        "#8. Write a code to remove the number 3 from the list [1, 2, 3, 4, 5].\n",
        "\n",
        "lis = [1,2,3,4,5]\n",
        "lis.remove(3)\n",
        "print(lis)"
      ],
      "metadata": {
        "id": "fSs7vWrY3O-N",
        "colab": {
          "base_uri": "https://localhost:8080/"
        },
        "outputId": "49dd6808-84a9-45c0-8ef8-d48217a0bb59"
      },
      "execution_count": 15,
      "outputs": [
        {
          "output_type": "stream",
          "name": "stdout",
          "text": [
            "[1, 2, 4, 5]\n"
          ]
        }
      ]
    },
    {
      "cell_type": "code",
      "source": [
        "#9. Write a code to access the second element in the list ['a', 'b', 'c', 'd'].\n",
        "\n",
        "lis = ['a','b','c','d']\n",
        "lis[1]"
      ],
      "metadata": {
        "id": "j6unaz1D3PGJ",
        "colab": {
          "base_uri": "https://localhost:8080/",
          "height": 36
        },
        "outputId": "0384c661-ea36-4d26-8953-05de3f7ed692"
      },
      "execution_count": 16,
      "outputs": [
        {
          "output_type": "execute_result",
          "data": {
            "text/plain": [
              "'b'"
            ],
            "application/vnd.google.colaboratory.intrinsic+json": {
              "type": "string"
            }
          },
          "metadata": {},
          "execution_count": 16
        }
      ]
    },
    {
      "cell_type": "code",
      "source": [
        "#10. Write a code to reverse the list [10, 20, 30, 40, 50].\n",
        "\n",
        "lis = [10,20,30,40,50]\n",
        "lis[ : :-1]"
      ],
      "metadata": {
        "id": "YIuUez8J3PbK",
        "colab": {
          "base_uri": "https://localhost:8080/"
        },
        "outputId": "66a90773-4a49-46c2-a97d-db616af71c6f"
      },
      "execution_count": 17,
      "outputs": [
        {
          "output_type": "execute_result",
          "data": {
            "text/plain": [
              "[50, 40, 30, 20, 10]"
            ]
          },
          "metadata": {},
          "execution_count": 17
        }
      ]
    },
    {
      "cell_type": "code",
      "source": [
        "#11. Write a code to create a tuple with the elements 100, 200, 300 and print it.\n",
        "\n",
        "t = (100,200,300)\n",
        "t"
      ],
      "metadata": {
        "id": "65jEZnWP3Pxx",
        "colab": {
          "base_uri": "https://localhost:8080/"
        },
        "outputId": "a17ff679-773f-4132-e3c0-b4fb1495ab7f"
      },
      "execution_count": 18,
      "outputs": [
        {
          "output_type": "execute_result",
          "data": {
            "text/plain": [
              "(100, 200, 300)"
            ]
          },
          "metadata": {},
          "execution_count": 18
        }
      ]
    },
    {
      "cell_type": "code",
      "source": [
        "#12.  Write a code to access the second-to-last element of the tuple ('red', 'green', 'blue', 'yellow').\n",
        "\n",
        "t = ('red','greem','blue','yellow')\n",
        "t[-2]"
      ],
      "metadata": {
        "id": "lIL0utMv3P9L",
        "colab": {
          "base_uri": "https://localhost:8080/",
          "height": 36
        },
        "outputId": "0d58446e-5345-4c26-f5ef-168e72cf848f"
      },
      "execution_count": 21,
      "outputs": [
        {
          "output_type": "execute_result",
          "data": {
            "text/plain": [
              "'blue'"
            ],
            "application/vnd.google.colaboratory.intrinsic+json": {
              "type": "string"
            }
          },
          "metadata": {},
          "execution_count": 21
        }
      ]
    },
    {
      "cell_type": "code",
      "source": [
        "#13. . Write a code to find the minimum number in the tuple (10, 20, 5, 15).\n",
        "\n",
        "t = (10,20,5,15)\n",
        "min(t)"
      ],
      "metadata": {
        "id": "syrouWFe2J3H",
        "colab": {
          "base_uri": "https://localhost:8080/"
        },
        "outputId": "b2243968-9d6b-4a22-e9fa-c4a854f9687a"
      },
      "execution_count": 22,
      "outputs": [
        {
          "output_type": "execute_result",
          "data": {
            "text/plain": [
              "5"
            ]
          },
          "metadata": {},
          "execution_count": 22
        }
      ]
    },
    {
      "cell_type": "code",
      "source": [
        "#14. Write a code to find the index of the element \"cat\" in the tuple ('dog', 'cat', 'rabbit').\n",
        "\n",
        "t = ('dog','cat','rabbit')\n",
        "t.index('cat')"
      ],
      "metadata": {
        "colab": {
          "base_uri": "https://localhost:8080/"
        },
        "id": "0IdowNwo-LSi",
        "outputId": "c1096f8d-6d3a-4a0f-ec73-7e8f94aa078e"
      },
      "execution_count": 23,
      "outputs": [
        {
          "output_type": "execute_result",
          "data": {
            "text/plain": [
              "1"
            ]
          },
          "metadata": {},
          "execution_count": 23
        }
      ]
    },
    {
      "cell_type": "code",
      "source": [
        "#15. Write a code to create a tuple containing three different fruits and check if \"kiwi\" is in it\n",
        "fruits = ('orange','apple','kiwi')\n",
        "if 'kiwi' in fruits:\n",
        "  print(\"kiwi\")\n",
        "else:\n",
        "  print (\"kiwi is not in fruits\")\n"
      ],
      "metadata": {
        "colab": {
          "base_uri": "https://localhost:8080/"
        },
        "id": "1sK8EEY8-Ll8",
        "outputId": "ba087c55-2624-4d89-de87-cae6c0c58de4"
      },
      "execution_count": 26,
      "outputs": [
        {
          "output_type": "stream",
          "name": "stdout",
          "text": [
            "kiwi\n"
          ]
        }
      ]
    },
    {
      "cell_type": "code",
      "source": [
        "#16.  Write a code to create a set with the elements 'a', 'b', 'c' and print it.\n",
        "\n",
        "s = {'a','b','c'}\n",
        "s"
      ],
      "metadata": {
        "colab": {
          "base_uri": "https://localhost:8080/"
        },
        "id": "Is9hkMb4RiKq",
        "outputId": "bfc77f28-1a9e-4071-9693-209906e19f65"
      },
      "execution_count": 27,
      "outputs": [
        {
          "output_type": "execute_result",
          "data": {
            "text/plain": [
              "{'a', 'b', 'c'}"
            ]
          },
          "metadata": {},
          "execution_count": 27
        }
      ]
    },
    {
      "cell_type": "code",
      "source": [
        "#17.  Write a code to clear all elements from the set {1, 2, 3, 4, 5}.\n",
        "\n",
        "s = {'a','b','c'}\n",
        "s.clear()\n",
        "s\n"
      ],
      "metadata": {
        "colab": {
          "base_uri": "https://localhost:8080/"
        },
        "id": "Y5SmEk2iRi95",
        "outputId": "c084d131-8477-47b3-bb32-def5f1f3b3cf"
      },
      "execution_count": 29,
      "outputs": [
        {
          "output_type": "execute_result",
          "data": {
            "text/plain": [
              "set()"
            ]
          },
          "metadata": {},
          "execution_count": 29
        }
      ]
    },
    {
      "cell_type": "code",
      "source": [
        "#18.  Write a code to remove the element 4 from the set {1, 2, 3, 4}.\n",
        "\n",
        "s = {1,2,3,4}\n",
        "s.remove(4)\n",
        "s"
      ],
      "metadata": {
        "colab": {
          "base_uri": "https://localhost:8080/"
        },
        "id": "VrV9KWNuRjKp",
        "outputId": "7b615d71-dd33-4d56-f94e-229a41853abd"
      },
      "execution_count": 30,
      "outputs": [
        {
          "output_type": "execute_result",
          "data": {
            "text/plain": [
              "{1, 2, 3}"
            ]
          },
          "metadata": {},
          "execution_count": 30
        }
      ]
    },
    {
      "cell_type": "code",
      "source": [
        "#19. Write a code to find the union of two sets {1, 2, 3} and {3, 4, 5}.\n",
        "\n",
        "s1 = {1,2,3}\n",
        "s2 = {4,5,6}\n",
        "s1|s2"
      ],
      "metadata": {
        "colab": {
          "base_uri": "https://localhost:8080/"
        },
        "id": "L_Iw6DvyRjgi",
        "outputId": "dd0baad5-06c7-42d5-b042-9c8f62409f55"
      },
      "execution_count": 31,
      "outputs": [
        {
          "output_type": "execute_result",
          "data": {
            "text/plain": [
              "{1, 2, 3, 4, 5, 6}"
            ]
          },
          "metadata": {},
          "execution_count": 31
        }
      ]
    },
    {
      "cell_type": "code",
      "source": [
        "#20.  Write a code to find the intersection of two sets {1, 2, 3} and {2, 3, 4}.\n",
        "\n",
        "s1 = {1,2,3}\n",
        "s2 = {2,3,4}\n",
        "s1&s2"
      ],
      "metadata": {
        "colab": {
          "base_uri": "https://localhost:8080/"
        },
        "id": "JKo3muA8Rjp4",
        "outputId": "6123376f-382f-41c2-9ed0-f152fe9c8794"
      },
      "execution_count": 34,
      "outputs": [
        {
          "output_type": "execute_result",
          "data": {
            "text/plain": [
              "{2, 3}"
            ]
          },
          "metadata": {},
          "execution_count": 34
        }
      ]
    },
    {
      "cell_type": "code",
      "source": [
        "#21. Write a code to create a dictionary with the keys \"name\", \"age\", and \"city\", and print it.\n",
        "\n",
        "d = {\"name\":\"priya\",\"age\":27,\"city\":\"ranchi\"}\n",
        "d"
      ],
      "metadata": {
        "colab": {
          "base_uri": "https://localhost:8080/"
        },
        "id": "nu7hvlyoRjyr",
        "outputId": "b42ed463-17f6-4db3-8cd5-6ced2e74a289"
      },
      "execution_count": 35,
      "outputs": [
        {
          "output_type": "execute_result",
          "data": {
            "text/plain": [
              "{'name': 'priya', 'age': 27, 'city': 'ranchi'}"
            ]
          },
          "metadata": {},
          "execution_count": 35
        }
      ]
    },
    {
      "cell_type": "code",
      "source": [
        "#22. Write a code to add a new key-value pair \"country\": \"USA\" to the dictionary {'name': 'John', 'age': 25}.\n",
        "\n",
        "d = {\"name\": \"John\", \"age\": 25}\n",
        "d[\"Country\"] = \"USA\"\n",
        "d"
      ],
      "metadata": {
        "colab": {
          "base_uri": "https://localhost:8080/"
        },
        "id": "zQcc-LONRj68",
        "outputId": "54875949-310f-4dd8-fc82-4f3b5854969b"
      },
      "execution_count": 37,
      "outputs": [
        {
          "output_type": "execute_result",
          "data": {
            "text/plain": [
              "{'name': 'John', 'age': 25, 'Country': 'USA'}"
            ]
          },
          "metadata": {},
          "execution_count": 37
        }
      ]
    },
    {
      "cell_type": "code",
      "source": [
        "#23. Write a code to access the value associated with the key \"name\" in the dictionary {'name': 'Alice', 'age': 30}.\n",
        "\n",
        "d = {'name': 'Alice', 'age': 30}\n",
        "d[\"name\"]\n"
      ],
      "metadata": {
        "colab": {
          "base_uri": "https://localhost:8080/",
          "height": 36
        },
        "id": "Sdmh_XtQISW4",
        "outputId": "843045fd-0538-4693-9480-2b6497c4976f"
      },
      "execution_count": 38,
      "outputs": [
        {
          "output_type": "execute_result",
          "data": {
            "text/plain": [
              "'Alice'"
            ],
            "application/vnd.google.colaboratory.intrinsic+json": {
              "type": "string"
            }
          },
          "metadata": {},
          "execution_count": 38
        }
      ]
    },
    {
      "cell_type": "code",
      "source": [
        "#24.  Write a code to remove the key \"age\" from the dictionary {'name': 'Bob', 'age': 22, 'city': 'New York'}.\n",
        "\n",
        "d = {'name': 'Bob', 'age': 22, 'city': 'New York'}\n",
        "d.pop('age')\n"
      ],
      "metadata": {
        "colab": {
          "base_uri": "https://localhost:8080/"
        },
        "id": "qZclwBYTIyTR",
        "outputId": "c081735f-b50f-4cb7-c03a-777294a46cdf"
      },
      "execution_count": 42,
      "outputs": [
        {
          "output_type": "execute_result",
          "data": {
            "text/plain": [
              "22"
            ]
          },
          "metadata": {},
          "execution_count": 42
        }
      ]
    },
    {
      "cell_type": "code",
      "source": [
        "#25.  Write a code to check if the key \"city\" exists in the dictionary {'name': 'Alice', 'city': 'Paris'}.\n",
        "\n",
        "d = {'name': 'Alice', 'city': 'Paris'}\n",
        "if \"city\" in d:\n",
        "  print(\"key city exists in the dictionary\")\n",
        "else:\n",
        "  print(\"key city doesn't exists in the dictionary\")"
      ],
      "metadata": {
        "colab": {
          "base_uri": "https://localhost:8080/"
        },
        "id": "QV_AZIleIyxL",
        "outputId": "dab563d4-77e4-4092-d441-c472cd01ae1c"
      },
      "execution_count": 46,
      "outputs": [
        {
          "output_type": "stream",
          "name": "stdout",
          "text": [
            "key city exists in the dictionary\n"
          ]
        }
      ]
    },
    {
      "cell_type": "code",
      "source": [
        "#26. Write a code to create a list, a tuple, and a dictionary, and print them all.\n",
        "lis = [1,2,3,'hello']\n",
        "print('my list is', lis)\n",
        "\n",
        "t = (1,2,3,'hello world')\n",
        "print('my tuple is', t)\n",
        "\n",
        "d = {\"fruit\":\"apple\",\"animal\":\"dog\"}\n",
        "print(\"my dictionary is\", d)\n"
      ],
      "metadata": {
        "colab": {
          "base_uri": "https://localhost:8080/"
        },
        "id": "p9WwuT08Iy6T",
        "outputId": "310cc1b3-50c3-4b5a-b00f-68960372c70c"
      },
      "execution_count": 47,
      "outputs": [
        {
          "output_type": "stream",
          "name": "stdout",
          "text": [
            "my list is [1, 2, 3, 'hello']\n",
            "my tuple is (1, 2, 3, 'hello world')\n",
            "my dictionary is {'fruit': 'apple', 'animal': 'dog'}\n"
          ]
        }
      ]
    },
    {
      "cell_type": "code",
      "source": [
        "#27.  Write a code to create a list of 5 random numbers between 1 and 100, sort it in ascending order, and print the result.(replaced)\n",
        "\n",
        "nums = [1,69,5,99,98]\n",
        "nums.sort()\n",
        "print(nums)"
      ],
      "metadata": {
        "colab": {
          "base_uri": "https://localhost:8080/"
        },
        "id": "zm-1qdHpIzEL",
        "outputId": "df85171b-9bf5-4889-d333-d38bf95c1fb0"
      },
      "execution_count": 52,
      "outputs": [
        {
          "output_type": "stream",
          "name": "stdout",
          "text": [
            "[1, 5, 69, 98, 99]\n"
          ]
        }
      ]
    },
    {
      "cell_type": "code",
      "source": [
        "#28.  Write a code to create a list with strings and print the element at the third index.\n",
        "\n",
        "lis = [\"priya\",\"teacher\",\"DS\",\"pwskills\"]\n",
        "lis[2]"
      ],
      "metadata": {
        "colab": {
          "base_uri": "https://localhost:8080/",
          "height": 36
        },
        "id": "D0IhEX9bISzi",
        "outputId": "b824d7e8-1df0-4c9c-c468-883f82bc1ea2"
      },
      "execution_count": 53,
      "outputs": [
        {
          "output_type": "execute_result",
          "data": {
            "text/plain": [
              "'DS'"
            ],
            "application/vnd.google.colaboratory.intrinsic+json": {
              "type": "string"
            }
          },
          "metadata": {},
          "execution_count": 53
        }
      ]
    },
    {
      "cell_type": "code",
      "source": [
        "#29. Write a code to combine two dictionaries into one and print the result.\n",
        "\n",
        "d1 = {\"fruit\":\"apple\",\"animal\":\"dog\"}\n",
        "d2 = {'name': 'Alice', 'city': 'Paris'}\n",
        "d1.update(d2)\n",
        "print(d1)"
      ],
      "metadata": {
        "colab": {
          "base_uri": "https://localhost:8080/"
        },
        "id": "-OU5wHcwIS9D",
        "outputId": "a8e4d537-86b2-42a8-e375-68a860557b05"
      },
      "execution_count": 55,
      "outputs": [
        {
          "output_type": "stream",
          "name": "stdout",
          "text": [
            "{'fruit': 'apple', 'animal': 'dog', 'name': 'Alice', 'city': 'Paris'}\n"
          ]
        }
      ]
    },
    {
      "cell_type": "code",
      "source": [
        "#30.  Write a code to convert a list of strings into a set.\n",
        "\n",
        "string_lis = [\"priya\",\"teacher\",\"DS\",\"pwskills\",\"priya\",\"DS\",\"priya\"]\n",
        "string_set = set(string_lis)\n",
        "print(string_set)"
      ],
      "metadata": {
        "colab": {
          "base_uri": "https://localhost:8080/"
        },
        "id": "pM69F1TzITG8",
        "outputId": "30d21979-7d43-46bb-984c-1fefe2e6f62e"
      },
      "execution_count": 57,
      "outputs": [
        {
          "output_type": "stream",
          "name": "stdout",
          "text": [
            "{'priya', 'pwskills', 'teacher', 'DS'}\n"
          ]
        }
      ]
    },
    {
      "cell_type": "code",
      "source": [],
      "metadata": {
        "id": "Av1YwHdi-L2D"
      },
      "execution_count": null,
      "outputs": []
    },
    {
      "cell_type": "code",
      "source": [],
      "metadata": {
        "id": "gjFuVZUK-MEK"
      },
      "execution_count": null,
      "outputs": []
    }
  ]
}